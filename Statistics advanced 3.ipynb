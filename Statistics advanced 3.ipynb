{
 "cells": [
  {
   "cell_type": "markdown",
   "id": "48ed7dc5-99d7-4395-8a6e-3e585c86267b",
   "metadata": {},
   "source": [
    "Q1: What is Estimation Statistics? Explain point estimate and interval estimate."
   ]
  },
  {
   "cell_type": "markdown",
   "id": "63a12a60-eae9-403d-ba6a-84dd8b3e0a99",
   "metadata": {},
   "source": [
    "Estimation statistics involves the use of sample data to make inferences or estimates about population parameters. Two common types of estimates are point estimates and interval estimates.\n",
    "\n",
    "Point Estimate:\n",
    "\n",
    "A point estimate is a single value that is used to estimate the unknown parameter of a population. It is based on sample data and provides a specific numerical value as the best guess for the population parameter.\n",
    "\n",
    "Interval Estimate:\n",
    "\n",
    "An interval estimate provides a range within which the true population parameter is likely to lie, along with a level of confidence. It recognizes the uncertainty inherent in making estimates based on sample data."
   ]
  },
  {
   "cell_type": "markdown",
   "id": "5eaca7ff-2477-47a1-9bcd-c92381e01e90",
   "metadata": {},
   "source": [
    "Q3: What is Hypothesis testing? Why is it used? State the importance of Hypothesis testing."
   ]
  },
  {
   "cell_type": "markdown",
   "id": "0ab6d982-a9e0-4e2e-adcc-75ceb7b63bf6",
   "metadata": {},
   "source": [
    "Hypothesis testing is a statistical method used to make inferences about a population based on a sample of data.\n",
    "The purpose of hypothesis testing is to assess the evidence provided by the sample data and determine whether there is enough evidence to reject the null hypothesis in favor of the alternative hypothesis.\n",
    "\n",
    "Formulate Hypotheses:\n",
    "\n",
    "Null Hypothesis (H₀): A statement that there is no significant difference or effect. It represents a default or baseline assumption.\n",
    "\n",
    "Alternative Hypothesis (H₁): A statement that contradicts the null hypothesis, suggesting a significant difference or effect.\n",
    "\n",
    "Collect and Analyze Data:\n",
    "\n",
    "Obtain a sample from the population and collect relevant data.\n",
    "\n",
    "Perform Statistical Test:\n",
    "\n",
    "Use a statistical test (e.g., t-test, chi-square test) to analyze the sample data and calculate a test statistic.\n",
    "\n",
    "Make a Decision:\n",
    "\n",
    "Compare the calculated test statistic to a critical value or p-value. If the test statistic falls in the critical region or if the p-value is less than α, reject the null hypothesis. Otherwise, fail to reject the null hypothesis.\n",
    "\n",
    "Draw Conclusions:\n",
    "\n",
    "Importance of Hypothesis Testing:\n",
    "\n",
    "Informed Decision-Making:\n",
    "\n",
    "Hypothesis testing provides a systematic way to make decisions based on sample data. It helps in determining whether observed differences or effects are statistically significant or simply due to chance.\n",
    "\n",
    "Scientific Inquiry:\n",
    "\n",
    "In scientific research, hypothesis testing is crucial for validating or refuting theories and hypotheses. It allows researchers to draw meaningful conclusions about the underlying population.\n",
    "\n",
    "Quality Control:\n",
    "\n",
    "In manufacturing and quality control, hypothesis testing is used to ensure that products meet certain standards. It helps identify deviations from the expected performance.\n",
    "\n",
    "Policy and Business Decision:\n",
    "\n",
    "Decision-makers in various fields use hypothesis testing to assess the effectiveness of policies, marketing strategies, or business interventions. It provides a basis for making data-driven choices.\n",
    "\n",
    "Risk Assessment:\n",
    "\n",
    "Hypothesis testing aids in assessing risks and uncertainties associated with certain actions or decisions. It helps in evaluating the potential impact of changes or interventions.\n",
    "\n"
   ]
  },
  {
   "cell_type": "markdown",
   "id": "a09ba470-5cca-4197-b711-b23316b9d7a6",
   "metadata": {},
   "source": [
    "Q4. Create a hypothesis that states whether the average weight of male college students is greater than\n",
    "the average weight of female college students."
   ]
  },
  {
   "cell_type": "markdown",
   "id": "a057b67b-5547-4ade-8a05-4fc37db6cfb1",
   "metadata": {},
   "source": [
    "Null hypothesis - weight of male <= weight of female\n",
    "\n",
    "Alternative hypothesis - weight of male > weight of female\n",
    "\n",
    "When conducting a statistical test, the goal is to evaluate the evidence provided by the sample data and decide whether there is enough evidence to reject the null hypothesis in favor of the alternative hypothesis. The specific test used would depend on the nature of the data and the assumptions made about the population distributions. Common tests include t-tests or z-tests for comparing means.\n",
    "\n",
    "\n",
    "\n",
    "\n",
    "\n"
   ]
  },
  {
   "cell_type": "markdown",
   "id": "3b72b768-54c6-40ca-a1b4-9cb1242262dc",
   "metadata": {},
   "source": [
    "Q5. Write a Python script to conduct a hypothesis test on the difference between two population means,\n",
    "given a sample from each population."
   ]
  },
  {
   "cell_type": "code",
   "execution_count": 1,
   "id": "d0625a00-b558-4e01-aceb-3146a28f0b6c",
   "metadata": {},
   "outputs": [
    {
     "name": "stdout",
     "output_type": "stream",
     "text": [
      "Independent Samples T-Test Results:\n",
      "t-statistic: 1.916502641348425\n",
      "p-value: 0.06023292455955318\n",
      "Reject null hypothesis: False\n"
     ]
    }
   ],
   "source": [
    "import numpy as np\n",
    "from scipy import stats\n",
    "\n",
    "def independent_t_test(sample1, sample2, alpha=0.05):\n",
    "    \"\"\"\n",
    "    Conducts an independent samples t-test on the difference between two population means.\n",
    "\n",
    "    Parameters:\n",
    "    - sample1 (array-like): Sample data for the first population.\n",
    "    - sample2 (array-like): Sample data for the second population.\n",
    "    - alpha (float): Significance level (default is 0.05).\n",
    "\n",
    "    Returns:\n",
    "    - result (tuple): Tuple containing t-statistic, p-value, and whether to reject the null hypothesis.\n",
    "    \"\"\"\n",
    "    # Perform independent samples t-test\n",
    "    t_statistic, p_value = stats.ttest_ind(sample1, sample2)\n",
    "\n",
    "    # Compare p-value to significance level\n",
    "    reject_null = p_value < alpha\n",
    "\n",
    "    return t_statistic, p_value, reject_null\n",
    "\n",
    "# Example usage:\n",
    "np.random.seed(42)  # For reproducibility\n",
    "\n",
    "# Generate two random samples (replace with actual data)\n",
    "sample_male = np.random.normal(loc=75, scale=10, size=30)\n",
    "sample_female = np.random.normal(loc=70, scale=8, size=30)\n",
    "\n",
    "# Perform independent samples t-test\n",
    "t_stat, p_val, reject_null = independent_t_test(sample_male, sample_female)\n",
    "\n",
    "# Display results\n",
    "print(\"Independent Samples T-Test Results:\")\n",
    "print(\"t-statistic:\", t_stat)\n",
    "print(\"p-value:\", p_val)\n",
    "print(\"Reject null hypothesis:\", reject_null)\n"
   ]
  },
  {
   "cell_type": "markdown",
   "id": "5927ca44-270e-40d5-82b4-12596772114b",
   "metadata": {},
   "source": [
    "Q6: What is a null and alternative hypothesis? Give some examples."
   ]
  },
  {
   "cell_type": "markdown",
   "id": "2441062b-1fc8-46e3-b8bc-2b1a1a2eef36",
   "metadata": {},
   "source": [
    "Null Hypothesis (H₀): A statement that there is no significant difference or effect. It represents a default or baseline assumption.\n",
    "\n",
    "Alternative Hypothesis (H₁): A statement that contradicts the null hypothesis, suggesting a significant difference or effect.\n",
    "\n",
    "Example - Mean Comparison:\n",
    "\n",
    "Null Hypothesis (H₀): The average score of students using Method A is equal to the average score of students using Method B.\n",
    "\n",
    "Alternative Hypothesis (H₁): The average score of students using Method A is different from the average score of students using Method B.\n",
    "\n",
    "Example - Proportion Test:\n",
    "\n",
    "Null Hypothesis (H₀): The proportion of customers who prefer Product X is equal to the proportion who prefer Product Y.\n",
    "\n",
    "Alternative Hypothesis (H₁): The proportion of customers who prefer Product X is not equal to the proportion who prefer Product Y.\n",
    "\n",
    "Example - Paired Samples Test:\n",
    "\n",
    "Null Hypothesis (H₀): There is no significant difference in blood pressure before and after the intervention.\n",
    "\n",
    "Alternative Hypothesis (H₁): There is a significant difference in blood pressure before and after the intervention.\n",
    "\n",
    "Example - Correlation Test:\n",
    "\n",
    "Null Hypothesis (H₀): There is no correlation between hours of study and exam scores.\n",
    "\n",
    "Alternative Hypothesis (H₁): There is a significant correlation between hours of study and exam scores.\n",
    "\n",
    "Example - One-Sample Test:\n",
    "\n",
    "Null Hypothesis (H₀): The average weight of a product is equal to the specified target weight.\n",
    "\n",
    "Alternative Hypothesis (H₁): The average weight of a product is different from the specified target weight.\n",
    "\n",
    "Example - Mean Comparison (Greater Than):\n",
    "\n",
    "Null Hypothesis (H₀): The average response time for Group A is less than or equal to the average response time for Group B.\n",
    "\n",
    "Alternative Hypothesis (H₁): The average response time for Group A is greater than the average response time for Group B."
   ]
  },
  {
   "cell_type": "markdown",
   "id": "080bf93c-a041-4f81-b538-381d300044da",
   "metadata": {},
   "source": [
    "Q7: Write down the steps involved in hypothesis testing."
   ]
  },
  {
   "cell_type": "markdown",
   "id": "726713a7-3758-4d24-abca-68d7e4ab03ab",
   "metadata": {},
   "source": [
    "Formulate Hypotheses:\n",
    "\n",
    "Clearly state the null hypothesis (H₀) and the alternative hypothesis (H₁).\n",
    "\n",
    "Set Significance Level (α):\n",
    "Choose the significance level (α), which represents the probability of rejecting the null hypothesis when it is true. Common choices include 0.05, 0.01, or 0.10.\n",
    "\n",
    "Collect and Analyze Data:\n",
    "\n",
    "Choose a Statistical Test:\n",
    "\n",
    "Select a statistical test based on the type of data and the nature of the hypotheses. Common tests include t-tests, chi-square tests, ANOVA, correlation tests, etc.\n",
    "\n",
    "Make a Decision:\n",
    "\n",
    "If using critical regions, compare the test statistic to the critical value. If using p-values, compare the p-value to the significance level.\n",
    "If the test statistic falls in the critical region or the p-value is less than α, reject the null hypothesis.\n",
    "If the test statistic does not fall in the critical region or the p-value is greater than or equal to α, fail to reject the null hypothesis.\n",
    "\n",
    "Draw Conclusions:\n"
   ]
  },
  {
   "cell_type": "markdown",
   "id": "03f27f21-84b5-4951-b706-af83b3f4369e",
   "metadata": {},
   "source": [
    "Q8. Define p-value and explain its significance in hypothesis testing."
   ]
  },
  {
   "cell_type": "markdown",
   "id": "e26e8574-76ea-4cc8-9372-5ef7e144a5c8",
   "metadata": {},
   "source": [
    "The p-value, or probability value, is a crucial concept in hypothesis testing. It represents the probability of observing a test statistic as extreme as, or more extreme than, the one calculated from the sample data, under the assumption that the null hypothesis is true. In simpler terms, the p-value quantifies the evidence against the null hypothesis.\n",
    "\n",
    "significance of the p-value in hypothesis testing:\n",
    "\n",
    "Small p-value (typically ≤ α):\n",
    "\n",
    "If the p-value is small (usually less than or equal to the chosen significance level, denoted as α), it suggests that the observed data is unlikely to occur if the null hypothesis is true.\n",
    "This leads to the rejection of the null hypothesis in favor of the alternative hypothesis.\n",
    "\n",
    "Large p-value (typically > α):\n",
    "\n",
    "If the p-value is large, it suggests that the observed data is reasonably likely to occur if the null hypothesis is true.\n",
    "This leads to a failure to reject the null hypothesis.\n",
    "\n",
    "Significance Level (α):\n",
    "\n",
    "The choice of the significance level (α) is important in interpreting p-values. Commonly used significance levels include 0.05, 0.01, or 0.10.\n",
    "If the p-value is less than or equal to α, the result is considered statistically significant, and the null hypothesis is rejected.\n",
    "If the p-value is greater than α, the result is not considered statistically significant, and the null hypothesis is not rejected.\n"
   ]
  },
  {
   "cell_type": "markdown",
   "id": "ab324450-7bd2-41e9-96d3-bfd3fb5273d4",
   "metadata": {},
   "source": [
    "Q9. Generate a Student's t-distribution plot using Python's matplotlib library, with the degrees of freedom\n",
    "parameter set to 10."
   ]
  },
  {
   "cell_type": "code",
   "execution_count": 7,
   "id": "2a4854f2-766a-4025-8ac5-dc6e49d36d8d",
   "metadata": {},
   "outputs": [
    {
     "data": {
      "image/png": "[encoded data removed]",
      "text/plain": [
       "<Figure size 640x480 with 1 Axes>"
      ]
     },
     "metadata": {},
     "output_type": "display_data"
    }
   ],
   "source": [
    "import numpy as np\n",
    "import matplotlib.pyplot as plt\n",
    "from scipy.stats import t\n",
    "\n",
    "# Set the degrees of freedom\n",
    "degrees_of_freedom = 10\n",
    "\n",
    "# Generate values for x-axis\n",
    "x = np.linspace(-4, 4, 1000)\n",
    "\n",
    "# Calculate the probability density function (PDF) for the t-distribution\n",
    "pdf_values = t.pdf(x, df=degrees_of_freedom)\n",
    "\n",
    "# Plot the t-distribution\n",
    "plt.plot(x, pdf_values, label=f'Student\\'s t-distribution (df={degrees_of_freedom})')\n",
    "plt.title('Student\\'s t-Distribution')\n",
    "plt.xlabel('x')\n",
    "plt.ylabel('Probability Density Function (PDF)')\n",
    "plt.show()"
   ]
  },
  {
   "cell_type": "markdown",
   "id": "8e355f62-2fb0-4fb0-a3cb-29f7d298f653",
   "metadata": {},
   "source": [
    "Q10. Write a Python program to calculate the two-sample t-test for independent samples, given two\n",
    "random samples of equal size and a null hypothesis that the population means are equal."
   ]
  },
  {
   "cell_type": "code",
   "execution_count": 8,
   "id": "d8a3cff6-21cd-4513-8f1c-b9840db1623a",
   "metadata": {},
   "outputs": [
    {
     "name": "stdout",
     "output_type": "stream",
     "text": [
      "Two-Sample T-Test Results:\n",
      "t-statistic: -4.512913234547555\n",
      "p-value: 3.176506547470154e-05\n",
      "Reject null hypothesis: True\n"
     ]
    }
   ],
   "source": [
    "import numpy as np\n",
    "from scipy import stats\n",
    "\n",
    "def two_sample_t_test(sample1, sample2, alpha=0.05):\n",
    "    \"\"\"\n",
    "    Performs a two-sample t-test for independent samples.\n",
    "\n",
    "    Parameters:\n",
    "    - sample1 (array-like): Sample data for the first group.\n",
    "    - sample2 (array-like): Sample data for the second group.\n",
    "    - alpha (float): Significance level (default is 0.05).\n",
    "\n",
    "    Returns:\n",
    "    - result (tuple): Tuple containing t-statistic, p-value, and whether to reject the null hypothesis.\n",
    "    \"\"\"\n",
    "    # Perform two-sample t-test\n",
    "    t_statistic, p_value = stats.ttest_ind(sample1, sample2)\n",
    "\n",
    "    # Compare p-value to significance level\n",
    "    reject_null = p_value < alpha\n",
    "\n",
    "    return t_statistic, p_value, reject_null\n",
    "\n",
    "# Example usage:\n",
    "np.random.seed(42)  # For reproducibility\n",
    "\n",
    "# Generate two random samples (replace with actual data)\n",
    "sample1 = np.random.normal(loc=10, scale=2, size=30)\n",
    "sample2 = np.random.normal(loc=12, scale=2, size=30)\n",
    "\n",
    "# Perform two-sample t-test\n",
    "t_stat, p_val, reject_null = two_sample_t_test(sample1, sample2)\n",
    "\n",
    "# Display results\n",
    "print(\"Two-Sample T-Test Results:\")\n",
    "print(\"t-statistic:\", t_stat)\n",
    "print(\"p-value:\", p_val)\n",
    "print(\"Reject null hypothesis:\", reject_null)\n"
   ]
  },
  {
   "cell_type": "markdown",
   "id": "0c1389bd-5bcc-4836-a507-8d64c60a95c5",
   "metadata": {},
   "source": [
    "Q11: What is Student’s t distribution? When to use the t-Distribution."
   ]
  },
  {
   "cell_type": "markdown",
   "id": "0f8c5f04-b2dd-451f-b874-49bc456bab3c",
   "metadata": {},
   "source": [
    "Student's t-distribution, often referred to as the t-distribution, is a probability distribution that arises in hypothesis testing when the population standard deviation is unknown and must be estimated from a sample. It is used to make inferences about the population mean based on a small sample of observations.\n",
    "\n",
    "Key characteristics of the t-distribution include:\n",
    "\n",
    "Shape:\n",
    "\n",
    "The t-distribution has a bell-shaped curve similar to the normal distribution.\n",
    "However, it has heavier tails compared to the normal distribution, especially when the sample size is small.\n",
    "\n",
    "Parameter:\n",
    "\n",
    "The shape of the t-distribution is determined by a parameter called degrees of freedom (df).\n",
    "As the degrees of freedom increase, the t-distribution approaches the shape of the standard normal distribution (z-distribution).\n",
    "\n",
    "Use in Hypothesis Testing:\n",
    "\n",
    "The t-distribution is commonly used in situations where the population standard deviation is unknown and must be estimated from a sample.\n",
    "It is employed in hypothesis testing for comparing means, such as t-tests for a single sample mean, two-sample mean comparison, and paired samples.\n",
    "\n",
    "When to Use the t-Distribution:\n",
    "\n",
    "Small Sample Sizes: The t-distribution is particularly useful when dealing with small sample sizes (typically n < 30) where the sample standard deviation is used to estimate the population standard deviation.\n",
    "Unknown Population Standard Deviation: If the population standard deviation is unknown and must be estimated from the sample, the t-distribution is used instead of the normal distribution.\n",
    "Comparing Means: When comparing means of two groups or testing a single mean, the t-distribution is often employed in situations where assumptions for normality are met or the sample size is small.\n",
    "\n",
    "Example Applications:\n",
    "\n",
    "Testing whether the mean exam score of a class is significantly different from a specified value.\n",
    "Comparing the mean weights of two different groups.\n",
    "Analyzing the effect of a treatment on a group by comparing the means before and after treatment."
   ]
  },
  {
   "cell_type": "markdown",
   "id": "7d87ee4f-ceb9-4476-bdc0-ea50c11e0706",
   "metadata": {},
   "source": [
    "Q12: What is t-statistic? State the formula for t-statistic."
   ]
  },
  {
   "attachments": {
    "08b5f844-4080-41a2-b90a-9bcc86a61286.png": {
     "image/png": "[encoded data removed]"
    }
   },
   "cell_type": "markdown",
   "id": "09fa00c1-caf5-4456-94dc-fbf668c6a05f",
   "metadata": {},
   "source": [
    "The t-statistic is used in a t-test to determine whether to support or reject the null hypothesis. It is very similar to the z-score but with the difference that t-statistic is used when the sample size is small or the population standard deviation is unknown.\n",
    "\n",
    "One-Sample T-Test Formula\n",
    "For comparing the mean of a population x  from n samples, with a specified theoretical mean μ, we use a one-sample t-test.\n",
    "\n",
    "t = (X‾−μ)/(σ/√n)\n",
    "\n",
    "where σ/√n is the standard error\n",
    "\n",
    "Independent Sample T-Test\n",
    "Students t-test is used to compare the mean of two groups of samples. It helps evaluate if the means of the two sets of data are statistically significantly different from each other.\n",
    "\n",
    "![image.png](attachment:08b5f844-4080-41a2-b90a-9bcc86a61286.png)"
   ]
  },
  {
   "cell_type": "markdown",
   "id": "7adeecb0-72a3-4d5a-a0d4-041a8c182f39",
   "metadata": {},
   "source": [
    "Q13. A coffee shop owner wants to estimate the average daily revenue for their shop. They take a random\n",
    "sample of 50 days and find the sample mean revenue to be $500 with a standard deviation of  \n",
    "$50.\n",
    "Estimate the population mean revenue with a 95% confidence interval."
   ]
  },
  {
   "cell_type": "markdown",
   "id": "5f96c581-4873-4ce9-9a05-52d5dc2f2ba4",
   "metadata": {},
   "source": [
    "Confidence Interval= xˉ ± Z(σ/√n)\n",
    "\n",
    "where:\n",
    "\n",
    "xˉ is the sample mean = $500\n",
    "\n",
    "Z is the Z-score corresponding to the desired confidence level = 0.025 = 1-0.025 =0.9750   The Z-score for a 95% confidence interval is approximately 1.96.\n",
    "\n",
    "σ is the population standard deviation = $50\n",
    "\n",
    "n is the sample size. = 50 days\n",
    "\n",
    "Confidence Interval=  500 ± 1.96( 50/√50)\n",
    "=  500 ± 13.89\n",
    "\n",
    "Lower Limit = 500 − 13.89 ≈ 486.11\n",
    "\n",
    "Upper Limit= 500 + 13.89 ≈ 513.89\n",
    "\n",
    "So, with 95% confidence, the population mean revenue is estimated to be between $486.11 and $513.89."
   ]
  },
  {
   "cell_type": "markdown",
   "id": "c6f96298-e717-460b-a9f9-f816b8c90c4a",
   "metadata": {},
   "source": [
    "Q14. A researcher hypothesizes that a new drug will decrease blood pressure by 10 mmHg. They conduct a\n",
    "clinical trial with 100 patients and find that the sample mean decrease in blood pressure is 8 mmHg with a\n",
    "standard deviation of 3 mmHg. Test the hypothesis with a significance level of 0.05."
   ]
  },
  {
   "cell_type": "markdown",
   "id": "7a33cd0b-5197-4433-9f8e-d6c9602264ef",
   "metadata": {},
   "source": [
    "The formula for the t-test is:\n",
    "\n",
    "t=( xˉ −μ)/(s/√n)\n",
    "\n",
    "where:\n",
    "\n",
    "\n",
    "ˉx is the sample mean = 8mmHg\n",
    "\n",
    "μ is the hypothesized population mean  = 10 mmHg\n",
    "\n",
    "s is the sample standard deviation = 3mmHg\n",
    "\n",
    "n is the sample size. = 100\n",
    "\n",
    "t=( 8 − 10 )/(3 /√100)  =-2/(3/10)\n",
    "\n",
    "= -20/3 = -6.67\n",
    "\n",
    "significance level = 0.05. with degree of freedeom = n-1 = 100-1 = 99\n",
    "\n",
    "−6.67 is much smaller (in absolute value) than -1.984, it falls into the critical region. Therefore, you would reject the null hypothesis.\n",
    "\n",
    "Conclusion: At a significance level of 0.05, there is enough evidence to reject the null hypothesis. The data suggests that the new drug has a statistically significant effect on decreasing blood pressure, and the mean decrease is different from the hypothesized value of 10 mmHg.\n",
    "\n"
   ]
  },
  {
   "cell_type": "markdown",
   "id": "9045023c-c508-4969-9013-f7f6e04dfc36",
   "metadata": {},
   "source": [
    "Q15. An electronics company produces a certain type of product with a mean weight of 5 pounds and a\n",
    "standard deviation of 0.5 pounds. A random sample of 25 products is taken, and the sample mean weight\n",
    "is found to be 4.8 pounds. Test the hypothesis that the true mean weight of the products is less than 5\n",
    "pounds with a significance level of 0.01."
   ]
  },
  {
   "cell_type": "markdown",
   "id": "a65e1cd4-b149-4ba2-84d2-11efdeb5253b",
   "metadata": {},
   "source": [
    "The formula for the t-test is:\n",
    "\n",
    "t=( xˉ −μ)/(s/√n)\n",
    "\n",
    "where:\n",
    "    \n",
    "ˉx is the sample mean = 4.8 pounds\n",
    "\n",
    "μ is the hypothesized population mean  = 5 pound\n",
    "\n",
    "s is the sample standard deviation = 0.5 pounds\n",
    "\n",
    "n is the sample size. = 25\n",
    "\n",
    "t = (4.8 - 5)/(0.5/√25)\n",
    "=0.2/(0.5/5)\n",
    "\n",
    "t = -2\n",
    "\n",
    "significance level = 0.01. and dof = 24(n-1)\n",
    "=2.492\n",
    "\n",
    "Since -2 is greater than -2.492, it falls into the critical region. Therefore, you would reject the null hypothesis.\n",
    "\n",
    "Conclusion: At a significance level of 0.01, there is enough evidence to reject the null hypothesis. The data suggests that the true mean weight of the products is less than 5 pounds.\n"
   ]
  },
  {
   "cell_type": "markdown",
   "id": "91621e28-c576-4b3f-9598-33eee47af3a4",
   "metadata": {},
   "source": [
    "Q16. Two groups of students are given different study materials to prepare for a test. The first group (n1 =\n",
    "30) has a mean score of 80 with a standard deviation of 10, and the second group (n2 = 40) has a mean\n",
    "score of 75 with a standard deviation of 8. Test the hypothesis that the population means for the two\n",
    "groups are equal with a significance level of 0.01."
   ]
  },
  {
   "attachments": {
    "40118d12-0f66-4546-8330-d3b089cd7795.png": {
     "image/png": "[encoded data removed]"
    }
   },
   "cell_type": "markdown",
   "id": "c3795f7e-8264-4cb9-b046-cad9b9c78ec8",
   "metadata": {},
   "source": [
    "The formula for the two-sample t-test is:\n",
    "\n",
    "![image.png](attachment:40118d12-0f66-4546-8330-d3b089cd7795.png)\n",
    "\n",
    "x1ˉand x2ˉare the sample means for Group 1 and Group 2, respectively,\n",
    "\n",
    "s1 and s2 are the sample standard deviations for Group 1 and Group 2, respectively,\n",
    "\n",
    "n1 and n2 are the sample sizes for Group 1 and Group 2, respectively.\n",
    "\n",
    "Given that:\n",
    "\n",
    "xˉ1 =80, xˉ2 =75\n",
    "\n",
    "s1=10 ,s2 =8\n",
    "\n",
    "n1 =30, n2 =40\n",
    "\n",
    "Plug these values into the formula:\n",
    "\n",
    "t = (80-75)/(√(10^2/30)+(8^2/40))\n",
    "= 5 /(√(100/30)+(64/40))\n",
    "= 5/√3.33+1.6\n",
    "= 5/√4.933\n",
    "= 5/2.219\n",
    "\n",
    "t = 2.25\n",
    "\n",
    "significance level is 0.01 and degree of freedom is\n",
    "\n",
    " df = (n1+n2)-2 \n",
    " \n",
    " df = (30+40)-2 =70-2 = 68\n",
    " \n",
    "Assuming that the critical t-value for a two-tailed test at a significance level of 0.01 and 68 degrees of freedom is approximately ±2.660\n",
    " \n",
    "Conclusion: At a significance level of 0.01, there is not enough evidence to reject the null hypothesis. Therefore, we do not have sufficient evidence to conclude that the population means for the two groups are different."
   ]
  },
  {
   "cell_type": "markdown",
   "id": "48a56089-ddf0-4ec5-8e68-870805be2f2d",
   "metadata": {},
   "source": [
    "Q17. A marketing company wants to estimate the average number of ads watched by viewers during a TV\n",
    "program. They take a random sample of 50 viewers and find that the sample mean is 4 with a standard\n",
    "deviation of 1.5. Estimate the population mean with a 99% confidence interval."
   ]
  },
  {
   "cell_type": "markdown",
   "id": "a667e1b8-0bc6-4005-a10e-b55b15f3722c",
   "metadata": {},
   "source": [
    "The formula for the Confidence Interval is:\n",
    "\n",
    "Confidence Interval= xˉ ± t(s/√n)\n",
    "\n",
    "n = 50 \n",
    "\n",
    "xˉ = 4\n",
    "\n",
    "s = 1.5\n",
    "\n",
    "t = For a 99% confidence interval with 49 degrees of freedom, the t-score is approximately 2.009\n",
    "\n",
    "Confidence Interval = 4 ± 2.009(1.5/√50)\n",
    "\n",
    "= 4 ± 0.428\n",
    "\n",
    "Now, calculate the confidence interval:\n",
    "\n",
    "Lower Limit = 4 − 0.428 ≈ 3.572\n",
    "Lower Limit = 4 + 0.428 ≈ 3.572\n",
    "Upper Limit\n",
    "=\n",
    "4\n",
    "+\n",
    "0.428\n",
    "≈\n",
    "4.428\n",
    "Upper Limit=4+0.428≈4.428\n",
    "\n",
    "So, with 99% confidence, the population mean number of ads watched by viewers during a TV program is estimated to be between 3.572 and 4.428.\n"
   ]
  }
 ],
 "metadata": {
  "kernelspec": {
   "display_name": "Python 3 (ipykernel)",
   "language": "python",
   "name": "python3"
  },
  "language_info": {
   "codemirror_mode": {
    "name": "ipython",
    "version": 3
   },
   "file_extension": ".py",
   "mimetype": "text/x-python",
   "name": "python",
   "nbconvert_exporter": "python",
   "pygments_lexer": "ipython3",
   "version": "3.10.8"
  }
 },
 "nbformat": 4,
 "nbformat_minor": 5
}
